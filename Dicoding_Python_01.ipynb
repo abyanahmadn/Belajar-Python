{
  "nbformat": 4,
  "nbformat_minor": 0,
  "metadata": {
    "colab": {
      "name": "Dicoding Python 01 ",
      "provenance": [],
      "authorship_tag": "ABX9TyNaLsXJq/JXtCX3iH/I30qT",
      "include_colab_link": true
    },
    "kernelspec": {
      "name": "python3",
      "display_name": "Python 3"
    },
    "language_info": {
      "name": "python"
    }
  },
  "cells": [
    {
      "cell_type": "markdown",
      "metadata": {
        "id": "view-in-github",
        "colab_type": "text"
      },
      "source": [
        "<a href=\"https://colab.research.google.com/github/abyanahmadn/Belajar-Python/blob/main/Dicoding_Python_01.ipynb\" target=\"_parent\"><img src=\"https://colab.research.google.com/assets/colab-badge.svg\" alt=\"Open In Colab\"/></a>"
      ]
    },
    {
      "cell_type": "markdown",
      "metadata": {
        "id": "iFQBbaDUHtJC"
      },
      "source": [
        "Perhitungan"
      ]
    },
    {
      "cell_type": "code",
      "metadata": {
        "colab": {
          "base_uri": "https://localhost:8080/"
        },
        "id": "0W8ylx8RlzuR",
        "outputId": "47e60ecd-6573-436b-ceec-36a60503d86a"
      },
      "source": [
        "x=3*3\n",
        "x\n"
      ],
      "execution_count": null,
      "outputs": [
        {
          "output_type": "execute_result",
          "data": {
            "text/plain": [
              "9"
            ]
          },
          "metadata": {},
          "execution_count": 1
        }
      ]
    },
    {
      "cell_type": "code",
      "metadata": {
        "colab": {
          "base_uri": "https://localhost:8080/"
        },
        "id": "KrZJiDhmmEv1",
        "outputId": "05620869-5c40-475c-8c3d-eddc7ddf6df1"
      },
      "source": [
        "print(3+3)\n",
        "print(3*3)\n",
        "print(3**3)\n"
      ],
      "execution_count": null,
      "outputs": [
        {
          "output_type": "stream",
          "name": "stdout",
          "text": [
            "6\n",
            "9\n",
            "27\n"
          ]
        }
      ]
    },
    {
      "cell_type": "markdown",
      "metadata": {
        "id": "EOHptgF4mFmc"
      },
      "source": [
        ""
      ]
    },
    {
      "cell_type": "code",
      "metadata": {
        "colab": {
          "base_uri": "https://localhost:8080/"
        },
        "id": "S-TrqNwfmUa1",
        "outputId": "1ea10c7a-52d8-4236-8322-c918b7202d99"
      },
      "source": [
        "print(\"hello,world\"); print(\"hai juga\")"
      ],
      "execution_count": null,
      "outputs": [
        {
          "output_type": "stream",
          "name": "stdout",
          "text": [
            "hello,world\n",
            "hai juga\n"
          ]
        }
      ]
    },
    {
      "cell_type": "code",
      "metadata": {
        "colab": {
          "base_uri": "https://localhost:8080/"
        },
        "id": "Ai-qp_kCmYFT",
        "outputId": "959cb957-96d4-4f5a-a8a2-b4c530cf6e6b"
      },
      "source": [
        "import os\n",
        "print(os.getcwd())"
      ],
      "execution_count": null,
      "outputs": [
        {
          "output_type": "stream",
          "name": "stdout",
          "text": [
            "/content\n"
          ]
        }
      ]
    },
    {
      "cell_type": "markdown",
      "metadata": {
        "id": "NoiOgKTJBQtL"
      },
      "source": [
        "Tipe Data pada Python - Numbers, String, dan Boolean"
      ]
    },
    {
      "cell_type": "code",
      "metadata": {
        "colab": {
          "base_uri": "https://localhost:8080/"
        },
        "id": "23KTT9ZUBEqW",
        "outputId": "b501441e-8ba6-4180-a121-dd1bb6abc11d"
      },
      "source": [
        "a = 10\n",
        "print(a, \"bertipe\", type(a))\n",
        "print(a, \"bertipe\", type(a))\n",
        "b = 1.7\n",
        "print(a, \"bertipe\", type(b))\n",
        "c = 1+3j\n",
        "print(c, \" Bertipe bilangan kompleks? \", isinstance(1+3j,complex))"
      ],
      "execution_count": null,
      "outputs": [
        {
          "output_type": "stream",
          "name": "stdout",
          "text": [
            "10 bertipe <class 'int'>\n",
            "10 bertipe <class 'int'>\n",
            "10 bertipe <class 'float'>\n",
            "(1+3j)  Bertipe bilangan kompleks?  True\n"
          ]
        }
      ]
    },
    {
      "cell_type": "markdown",
      "metadata": {
        "id": "87Wu75jQE69h"
      },
      "source": [
        "1. Numbers"
      ]
    },
    {
      "cell_type": "code",
      "metadata": {
        "colab": {
          "base_uri": "https://localhost:8080/"
        },
        "id": "d--QvVw7CWop",
        "outputId": "4fc57192-4180-423a-c271-56e7f8d4739e"
      },
      "source": [
        "#bilangan float\n",
        "b = 0.1234567890123456789\n",
        "print(b)\n",
        "\n",
        "#bil Integer\n",
        "a = 1234567890123456789\n",
        "print(a)\n",
        "\n",
        "#bil complex\n",
        "c = 1+5j\n",
        "print(c)"
      ],
      "execution_count": null,
      "outputs": [
        {
          "output_type": "stream",
          "name": "stdout",
          "text": [
            "0.12345678901234568\n",
            "1234567890123456789\n",
            "(1+5j)\n"
          ]
        }
      ]
    },
    {
      "cell_type": "markdown",
      "metadata": {
        "id": "W7TZ6McyE_t4"
      },
      "source": [
        "2. Strings"
      ]
    },
    {
      "cell_type": "code",
      "metadata": {
        "colab": {
          "base_uri": "https://localhost:8080/"
        },
        "id": "OQC-QEigFCov",
        "outputId": "7e2dae1e-132f-419e-fd76-b9b80a01b7cd"
      },
      "source": [
        "#String adalah urutan dari karakter unicode yang dideklarasikan dengan petik tunggal atau ganda. \n",
        "#String >1baris dapat ditandai dengan tiga petik tunggal atau ganda ''' atau \"\"\".\n",
        "s1 = \"Ini adalah string baris tunggal\"\n",
        "\n",
        "s2 = '''Ini adalah string\n",
        "yang memiliki baris pertama\n",
        "dan selanjutnya baris kedua'''\n",
        "\n",
        "s3 = \"\"\"Ini adalah string\n",
        "yang memiliki baris pertama\n",
        "dan selanjutnya baris kedua\"\"\"\n",
        "\n",
        "print(s2)\n",
        "\n",
        "print(s3)"
      ],
      "execution_count": null,
      "outputs": [
        {
          "output_type": "stream",
          "name": "stdout",
          "text": [
            "Ini adalah string\n",
            "yang memiliki baris pertama\n",
            "dan selanjutnya baris kedua\n",
            "Ini adalah string\n",
            "yang memiliki baris pertama\n",
            "dan selanjutnya baris kedua\n"
          ]
        }
      ]
    },
    {
      "cell_type": "markdown",
      "metadata": {
        "id": "I2-Uzd3LF3h_"
      },
      "source": [
        "3. Bool/Boolean"
      ]
    },
    {
      "cell_type": "code",
      "metadata": {
        "id": "h-zwu_uaF7AV"
      },
      "source": [
        "#Adl turunan dari bilangan bulat (integer atau int) yang hanya punya dua nilai konstanta: True dan False."
      ],
      "execution_count": null,
      "outputs": []
    },
    {
      "cell_type": "markdown",
      "metadata": {
        "id": "6RGGLUC0GoRw"
      },
      "source": [
        "Tipe Data pada Python - List, Slicing, Tuple, Set, dan Dictionary"
      ]
    },
    {
      "cell_type": "markdown",
      "metadata": {
        "id": "96v06U7UGspM"
      },
      "source": [
        "1. List"
      ]
    },
    {
      "cell_type": "code",
      "metadata": {
        "colab": {
          "base_uri": "https://localhost:8080/"
        },
        "id": "gA9zy8o5Gvbh",
        "outputId": "11500b78-42a1-4727-d471-519bf72a6fcf"
      },
      "source": [
        "x = [5,10,15,20,25,30,35,40]\n",
        "print(x[0])\n",
        "print(x[5])\n",
        "print(x[-1])\n",
        "print(x[3:5])\n",
        "print(x[:5])\n",
        "print(x[-3:])\n",
        "print(x[1:7:2])"
      ],
      "execution_count": null,
      "outputs": [
        {
          "output_type": "stream",
          "name": "stdout",
          "text": [
            "5\n",
            "30\n",
            "40\n",
            "[20, 25]\n",
            "[5, 10, 15, 20, 25]\n",
            "[30, 35, 40]\n",
            "[10, 20, 30]\n"
          ]
        }
      ]
    },
    {
      "cell_type": "code",
      "metadata": {
        "colab": {
          "base_uri": "https://localhost:8080/"
        },
        "id": "T7PqmFiYHqGP",
        "outputId": "6e8136fc-72ac-4499-e796-86d213d18ecc"
      },
      "source": [
        "#Elemen pada list dapat diubah atau ditambahkan. Misalnya untuk melakukan perubahan kemudian penambahan:\n",
        "y = [1,2,3]\n",
        "y[2]=4\n",
        "print (y)\n",
        "\n",
        "x = [1,2,3]\n",
        "x[2]=4\n",
        "x.append(5)\n",
        "print(x)"
      ],
      "execution_count": null,
      "outputs": [
        {
          "output_type": "stream",
          "name": "stdout",
          "text": [
            "[1, 2, 4]\n",
            "[1, 2, 4, 5]\n"
          ]
        }
      ]
    },
    {
      "cell_type": "code",
      "metadata": {
        "colab": {
          "base_uri": "https://localhost:8080/"
        },
        "id": "p19T7pFWH6x7",
        "outputId": "c316ac7b-6b0f-4e1c-9e08-9546b0617ec6"
      },
      "source": [
        "#Untuk menghapus item pada list, gunakan fungsi del.\n",
        "binatang = ['kucing', 'rusa', 'badak', 'gajah']\n",
        "del binatang[2]\n",
        "print(binatang)"
      ],
      "execution_count": null,
      "outputs": [
        {
          "output_type": "stream",
          "name": "stdout",
          "text": [
            "['kucing', 'rusa', 'gajah']\n"
          ]
        }
      ]
    },
    {
      "cell_type": "markdown",
      "metadata": {
        "id": "hAXVqbZrIPtK"
      },
      "source": [
        "2. Slicing pada String"
      ]
    },
    {
      "cell_type": "code",
      "metadata": {
        "colab": {
          "base_uri": "https://localhost:8080/",
          "height": 280
        },
        "id": "KF1-0Z9sISko",
        "outputId": "915cf29e-3e26-46df-dcd7-a7142ad1c0f8"
      },
      "source": [
        "#Karena string mirip dengan list, maka slicing operator [ ]  \n",
        "#juga dapat digunakan pada string untuk mengambil isinya atau bahkan substring. \n",
        "#Sebuah string utuh bersifat mutable (bisa diubah), namun elemennya bersifat immutable (tidak bisa diubah).\n",
        "\n",
        "s = \"Hello World!\"\n",
        "print(s[4]) \t\t#ambil karakter kelima dari string s\n",
        "print(s[6:11]) \t\t#ambil karakter ketujuh hingga sebelas dari string s\n",
        "s[5]=\"d\" \t\t#ubah karakter keenam dari string s menjadi \"d\", seharusnya gagal karena immutable\n",
        "s = \"Halo Dunia!\"\t#ubah isi string s menjadi \"Halo Dunia!\", seharusnya berhasil karena mutable\n",
        "print (s)"
      ],
      "execution_count": null,
      "outputs": [
        {
          "output_type": "stream",
          "name": "stdout",
          "text": [
            "o\n",
            "World\n"
          ]
        },
        {
          "output_type": "error",
          "ename": "TypeError",
          "evalue": "ignored",
          "traceback": [
            "\u001b[0;31m---------------------------------------------------------------------------\u001b[0m",
            "\u001b[0;31mTypeError\u001b[0m                                 Traceback (most recent call last)",
            "\u001b[0;32m<ipython-input-23-06d4826e6d0c>\u001b[0m in \u001b[0;36m<module>\u001b[0;34m()\u001b[0m\n\u001b[1;32m      6\u001b[0m \u001b[0mprint\u001b[0m\u001b[0;34m(\u001b[0m\u001b[0ms\u001b[0m\u001b[0;34m[\u001b[0m\u001b[0;36m4\u001b[0m\u001b[0;34m]\u001b[0m\u001b[0;34m)\u001b[0m             \u001b[0;31m#ambil karakter kelima dari string s\u001b[0m\u001b[0;34m\u001b[0m\u001b[0;34m\u001b[0m\u001b[0m\n\u001b[1;32m      7\u001b[0m \u001b[0mprint\u001b[0m\u001b[0;34m(\u001b[0m\u001b[0ms\u001b[0m\u001b[0;34m[\u001b[0m\u001b[0;36m6\u001b[0m\u001b[0;34m:\u001b[0m\u001b[0;36m11\u001b[0m\u001b[0;34m]\u001b[0m\u001b[0;34m)\u001b[0m          \u001b[0;31m#ambil karakter ketujuh hingga sebelas dari string s\u001b[0m\u001b[0;34m\u001b[0m\u001b[0;34m\u001b[0m\u001b[0m\n\u001b[0;32m----> 8\u001b[0;31m \u001b[0ms\u001b[0m\u001b[0;34m[\u001b[0m\u001b[0;36m5\u001b[0m\u001b[0;34m]\u001b[0m\u001b[0;34m=\u001b[0m\u001b[0;34m\"d\"\u001b[0m                \u001b[0;31m#ubah karakter keenam dari string s menjadi \"d\", seharusnya gagal karena immutable\u001b[0m\u001b[0;34m\u001b[0m\u001b[0;34m\u001b[0m\u001b[0m\n\u001b[0m\u001b[1;32m      9\u001b[0m \u001b[0ms\u001b[0m \u001b[0;34m=\u001b[0m \u001b[0;34m\"Halo Dunia!\"\u001b[0m       \u001b[0;31m#ubah isi string s menjadi \"Halo Dunia!\", seharusnya berhasil karena mutable\u001b[0m\u001b[0;34m\u001b[0m\u001b[0;34m\u001b[0m\u001b[0m\n\u001b[1;32m     10\u001b[0m \u001b[0mprint\u001b[0m \u001b[0;34m(\u001b[0m\u001b[0ms\u001b[0m\u001b[0;34m)\u001b[0m\u001b[0;34m\u001b[0m\u001b[0;34m\u001b[0m\u001b[0m\n",
            "\u001b[0;31mTypeError\u001b[0m: 'str' object does not support item assignment"
          ]
        }
      ]
    },
    {
      "cell_type": "markdown",
      "metadata": {
        "id": "8W3NWeutJ_SQ"
      },
      "source": [
        "3. Tuple"
      ]
    },
    {
      "cell_type": "code",
      "metadata": {
        "colab": {
          "base_uri": "https://localhost:8080/",
          "height": 135
        },
        "id": "31cPN6rsKBiL",
        "outputId": "a62f097d-1aff-4769-8886-024358d62510"
      },
      "source": [
        "t = (5,'program', 1+3j)\n",
        "print(t[1])\n",
        "print(t[0:3])\n",
        "print(t[0]=10) #Seperti list, kita dapat melakukan slicing, namun pada tuple kita tidak dapat melakukan perubahan:"
      ],
      "execution_count": null,
      "outputs": [
        {
          "output_type": "error",
          "ename": "SyntaxError",
          "evalue": "ignored",
          "traceback": [
            "\u001b[0;36m  File \u001b[0;32m\"<ipython-input-24-ecb370837c1e>\"\u001b[0;36m, line \u001b[0;32m4\u001b[0m\n\u001b[0;31m    print(t[0]=10)\u001b[0m\n\u001b[0m         ^\u001b[0m\n\u001b[0;31mSyntaxError\u001b[0m\u001b[0;31m:\u001b[0m keyword can't be an expression\n"
          ]
        }
      ]
    },
    {
      "cell_type": "markdown",
      "metadata": {
        "id": "3okB8HurKjfb"
      },
      "source": [
        "4. Set"
      ]
    },
    {
      "cell_type": "code",
      "metadata": {
        "id": "Ow8MTE3FKa0U"
      },
      "source": [
        "#kumpulan item bersifat unik dan tanpa urutan (unordered collection). \n",
        "#Didefinisikan dengan kurawal dan elemennya dipisahkan dengan koma. \n",
        "#Pada Set kita dapat melakukan union dan intersection, sekaligus otomatis melakukan penghapusan data duplikat.\n",
        "\n",
        "a = {1,2,2,3,3,3}\n",
        "print(a)"
      ],
      "execution_count": null,
      "outputs": []
    },
    {
      "cell_type": "code",
      "metadata": {
        "colab": {
          "base_uri": "https://localhost:8080/",
          "height": 207
        },
        "id": "L5HqsS4YKwTk",
        "outputId": "d5b9e4e4-c2fb-4afb-8696-23aec8c33e17"
      },
      "source": [
        "#Karena set bersifat unordered, maka kita tidak bisa mengambil sebagian data / elemen datanya menggunakan proses slicing.\n",
        "a = {1,2,3}\n",
        "print(a[1])"
      ],
      "execution_count": null,
      "outputs": [
        {
          "output_type": "error",
          "ename": "TypeError",
          "evalue": "ignored",
          "traceback": [
            "\u001b[0;31m---------------------------------------------------------------------------\u001b[0m",
            "\u001b[0;31mTypeError\u001b[0m                                 Traceback (most recent call last)",
            "\u001b[0;32m<ipython-input-25-653fe462d5e7>\u001b[0m in \u001b[0;36m<module>\u001b[0;34m()\u001b[0m\n\u001b[1;32m      1\u001b[0m \u001b[0;31m#Karena set bersifat unordered, maka kita tidak bisa mengambil sebagian data / elemen datanya menggunakan proses slicing.\u001b[0m\u001b[0;34m\u001b[0m\u001b[0;34m\u001b[0m\u001b[0;34m\u001b[0m\u001b[0m\n\u001b[1;32m      2\u001b[0m \u001b[0ma\u001b[0m \u001b[0;34m=\u001b[0m \u001b[0;34m{\u001b[0m\u001b[0;36m1\u001b[0m\u001b[0;34m,\u001b[0m\u001b[0;36m2\u001b[0m\u001b[0;34m,\u001b[0m\u001b[0;36m3\u001b[0m\u001b[0;34m}\u001b[0m\u001b[0;34m\u001b[0m\u001b[0;34m\u001b[0m\u001b[0m\n\u001b[0;32m----> 3\u001b[0;31m \u001b[0mprint\u001b[0m\u001b[0;34m(\u001b[0m\u001b[0ma\u001b[0m\u001b[0;34m[\u001b[0m\u001b[0;36m1\u001b[0m\u001b[0;34m]\u001b[0m\u001b[0;34m)\u001b[0m\u001b[0;34m\u001b[0m\u001b[0;34m\u001b[0m\u001b[0m\n\u001b[0m",
            "\u001b[0;31mTypeError\u001b[0m: 'set' object is not subscriptable"
          ]
        }
      ]
    },
    {
      "cell_type": "markdown",
      "metadata": {
        "id": "krpHAABNK44G"
      },
      "source": [
        "5. Dictionary"
      ]
    },
    {
      "cell_type": "code",
      "metadata": {
        "colab": {
          "base_uri": "https://localhost:8080/",
          "height": 262
        },
        "id": "iTflhnzvK3ho",
        "outputId": "47314f61-430d-4108-ef27-f19a8c64fffc"
      },
      "source": [
        "#Dictionary pada Python adalah kumpulan pasangan kunci-nilai (pair of key-value) yang bersifat tidak berurutan.\n",
        "#Pada Python, dictionary didefinisikan dengan kurawal\n",
        "#Harus memanggil key-nya (digit bagian depan)\n",
        "d = {1:'value','key':2}\n",
        "print(type(d))\n",
        "\n",
        "print(\"d[1] = \", d[1]);\n",
        "print(\"d['key'] = \", d['key']);\n",
        "\n",
        "# Dictionary bukan termasuk dalam implementasi urutan (sequences), sehingga tidak bisa dipanggil dengan urutan indeks\n",
        "# Generates error\n",
        "print(\"d[2] = \", d[2]);"
      ],
      "execution_count": null,
      "outputs": [
        {
          "output_type": "stream",
          "name": "stdout",
          "text": [
            "<class 'dict'>\n",
            "d[1] =  value\n",
            "d['key'] =  2\n"
          ]
        },
        {
          "output_type": "error",
          "ename": "KeyError",
          "evalue": "ignored",
          "traceback": [
            "\u001b[0;31m---------------------------------------------------------------------------\u001b[0m",
            "\u001b[0;31mKeyError\u001b[0m                                  Traceback (most recent call last)",
            "\u001b[0;32m<ipython-input-31-a5c0d7736538>\u001b[0m in \u001b[0;36m<module>\u001b[0;34m()\u001b[0m\n\u001b[1;32m     10\u001b[0m \u001b[0;31m# Dictionary bukan termasuk dalam implementasi urutan (sequences), sehingga tidak bisa dipanggil dengan urutan indeks\u001b[0m\u001b[0;34m\u001b[0m\u001b[0;34m\u001b[0m\u001b[0;34m\u001b[0m\u001b[0m\n\u001b[1;32m     11\u001b[0m \u001b[0;31m# Generates error\u001b[0m\u001b[0;34m\u001b[0m\u001b[0;34m\u001b[0m\u001b[0;34m\u001b[0m\u001b[0m\n\u001b[0;32m---> 12\u001b[0;31m \u001b[0mprint\u001b[0m\u001b[0;34m(\u001b[0m\u001b[0;34m\"d[2] = \"\u001b[0m\u001b[0;34m,\u001b[0m \u001b[0md\u001b[0m\u001b[0;34m[\u001b[0m\u001b[0;36m2\u001b[0m\u001b[0;34m]\u001b[0m\u001b[0;34m)\u001b[0m\u001b[0;34m;\u001b[0m\u001b[0;34m\u001b[0m\u001b[0;34m\u001b[0m\u001b[0m\n\u001b[0m",
            "\u001b[0;31mKeyError\u001b[0m: 2"
          ]
        }
      ]
    }
  ]
}